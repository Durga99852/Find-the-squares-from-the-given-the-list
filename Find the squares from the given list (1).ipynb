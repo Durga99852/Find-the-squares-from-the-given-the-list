{
 "cells": [
  {
   "cell_type": "code",
   "execution_count": 18,
   "id": "a61a57dd",
   "metadata": {},
   "outputs": [
    {
     "name": "stdout",
     "output_type": "stream",
     "text": [
      "Given Numbers: [4, 5, 2, 29]\n",
      "\n",
      " Square of given numbers are:\n",
      "[16, 25, 4, 841]\n"
     ]
    }
   ],
   "source": [
    "def square(num):    #defining the square function \n",
    "    return num**2\n",
    "\n",
    "my_nums = [4,5,2,29]    #input lists\n",
    "print(\"Given Numbers:\",my_nums)   #printing the given list\n",
    "map(square,my_nums)\n",
    "print(\"\\n Square of given numbers are:\")\n",
    "print(list(map(square,my_nums)))     #to get the results, we are iterating through map function"
   ]
  },
  {
   "cell_type": "markdown",
   "id": "22b64f6b",
   "metadata": {},
   "source": []
  },
  {
   "cell_type": "raw",
   "id": "2f354fbf",
   "metadata": {},
   "source": [
    "#Test cases"
   ]
  },
  {
   "cell_type": "code",
   "execution_count": 16,
   "id": "be535051",
   "metadata": {},
   "outputs": [
    {
     "name": "stdout",
     "output_type": "stream",
     "text": [
      "Given Numbers: [3, 4, 7, 11, 26, 39]\n",
      "\n",
      " Square of given numbers are:\n",
      "[9, 16, 49, 121, 676, 1521]\n"
     ]
    }
   ],
   "source": [
    "def square(num):    #defining the square function \n",
    "    return num**2\n",
    "\n",
    "my_nums = [3,4,7,11,26,39]    #input lists\n",
    "print(\"Given Numbers:\",my_nums)   #printing the given list\n",
    "map(square,my_nums)\n",
    "print(\"\\n Square of given numbers are:\")\n",
    "print(list(map(square,my_nums)))     #to get the results, we are iterating through map function"
   ]
  },
  {
   "cell_type": "code",
   "execution_count": null,
   "id": "e7586dcf",
   "metadata": {},
   "outputs": [],
   "source": []
  },
  {
   "cell_type": "raw",
   "id": "a1ffde91",
   "metadata": {},
   "source": [
    "#test cases"
   ]
  },
  {
   "cell_type": "code",
   "execution_count": 17,
   "id": "1d8b3367",
   "metadata": {},
   "outputs": [
    {
     "name": "stdout",
     "output_type": "stream",
     "text": [
      "Given Numbers: [4, -6, 30.5, 3928]\n",
      "\n",
      " Square of given numbers are:\n",
      "[16, 36, 930.25, 15429184]\n"
     ]
    }
   ],
   "source": [
    "def square(num):    #defining the square function \n",
    "    return num**2\n",
    "\n",
    "my_nums = [4,-6,30.5,3928]    #input lists\n",
    "print(\"Given Numbers:\",my_nums)   #printing the given list\n",
    "map(square,my_nums)\n",
    "print(\"\\n Square of given numbers are:\")\n",
    "print(list(map(square,my_nums)))     #to get the results, we are iterating through map function"
   ]
  },
  {
   "cell_type": "code",
   "execution_count": null,
   "id": "5763a367",
   "metadata": {},
   "outputs": [],
   "source": []
  },
  {
   "cell_type": "code",
   "execution_count": null,
   "id": "f35cc725",
   "metadata": {},
   "outputs": [],
   "source": []
  },
  {
   "cell_type": "code",
   "execution_count": null,
   "id": "9819f9ba",
   "metadata": {},
   "outputs": [],
   "source": []
  },
  {
   "cell_type": "code",
   "execution_count": null,
   "id": "41fa1ef5",
   "metadata": {},
   "outputs": [],
   "source": []
  },
  {
   "cell_type": "code",
   "execution_count": null,
   "id": "ebf86d89",
   "metadata": {},
   "outputs": [],
   "source": []
  }
 ],
 "metadata": {
  "kernelspec": {
   "display_name": "Python 3 (ipykernel)",
   "language": "python",
   "name": "python3"
  },
  "language_info": {
   "codemirror_mode": {
    "name": "ipython",
    "version": 3
   },
   "file_extension": ".py",
   "mimetype": "text/x-python",
   "name": "python",
   "nbconvert_exporter": "python",
   "pygments_lexer": "ipython3",
   "version": "3.10.0"
  }
 },
 "nbformat": 4,
 "nbformat_minor": 5
}
